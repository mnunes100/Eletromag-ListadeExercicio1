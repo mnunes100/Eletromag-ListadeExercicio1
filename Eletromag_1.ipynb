{
  "nbformat": 4,
  "nbformat_minor": 0,
  "metadata": {
    "colab": {
      "provenance": [],
      "authorship_tag": "ABX9TyMT12T4XYYAG6fH5QJaxeI1",
      "include_colab_link": true
    },
    "kernelspec": {
      "name": "python3",
      "display_name": "Python 3"
    },
    "language_info": {
      "name": "python"
    }
  },
  "cells": [
    {
      "cell_type": "markdown",
      "metadata": {
        "id": "view-in-github",
        "colab_type": "text"
      },
      "source": [
        "<a href=\"https://colab.research.google.com/github/mnunes100/Eletromag-ListadeExercicio1/blob/main/Eletromag_1.ipynb\" target=\"_parent\"><img src=\"https://colab.research.google.com/assets/colab-badge.svg\" alt=\"Open In Colab\"/></a>"
      ]
    },
    {
      "cell_type": "markdown",
      "source": [
        "***EXERCÍCIO 1.1***"
      ],
      "metadata": {
        "id": "UsrBbdLiGgd8"
      }
    },
    {
      "cell_type": "code",
      "execution_count": null,
      "metadata": {
        "colab": {
          "base_uri": "https://localhost:8080/"
        },
        "id": "7tmSulyAEeDo",
        "outputId": "0a25ad03-9583-44c2-f691-ef2e8bb77921"
      },
      "outputs": [
        {
          "output_type": "stream",
          "name": "stdout",
          "text": [
            "[-0.8703882797784892, -0.3481553119113957, -0.3481553119113957]\n"
          ]
        }
      ],
      "source": [
        "vetor = [-3-2, 2-4, 2-4]\n",
        "\n",
        "comprimento = ((-3-2)**2 + (2-4)**2 + (2-4)**2)**0.5\n",
        "\n",
        "vetor_unitario = [vetor[0]/comprimento, vetor[1]/comprimento, vetor[2]/comprimento]\n",
        "\n",
        "ponto1 = (2, 4, 4)\n",
        "ponto2 = (-3, 2, 2)\n",
        "\n",
        "vetor = [ponto2[i] - ponto1[i] for i in range(3)]\n",
        "\n",
        "comprimento = sum([componente**2 for componente in vetor])**0.5\n",
        "\n",
        "vetor_unitario = [componente/comprimento for componente in vetor]\n",
        "\n",
        "print(vetor_unitario)"
      ]
    },
    {
      "cell_type": "markdown",
      "source": [
        "***EXERCÍCIO 1.2***\n"
      ],
      "metadata": {
        "id": "C2oJHwTUHSSf"
      }
    },
    {
      "cell_type": "markdown",
      "source": [
        " ***QUESTÃO (A)***"
      ],
      "metadata": {
        "id": "zhx7ilzbNo6w"
      }
    },
    {
      "cell_type": "code",
      "source": [
        "\n",
        "import sympy\n",
        "\n",
        "\n",
        "a, x, y, z = sympy.symbols('a x y z')\n",
        "\n",
        "A = 2*a*x + 5*a*y - 3*a*z\n",
        "B = 3*a*x - 4*a*y\n",
        "C = a*x + a*y + a*z\n",
        "\n",
        "resultado = A + 2*B\n",
        "\n",
        "print(resultado)"
      ],
      "metadata": {
        "colab": {
          "base_uri": "https://localhost:8080/"
        },
        "id": "xjFCDsO4HSsZ",
        "outputId": "f88da672-0598-4330-836a-d8d946ae01e6"
      },
      "execution_count": null,
      "outputs": [
        {
          "output_type": "stream",
          "name": "stdout",
          "text": [
            "8*a*x - 3*a*y - 3*a*z\n"
          ]
        }
      ]
    },
    {
      "cell_type": "markdown",
      "source": [
        " ***QUESTÃO (B)***"
      ],
      "metadata": {
        "id": "qtBKWx15Po1s"
      }
    },
    {
      "cell_type": "code",
      "source": [
        "import sympy as sp\n",
        "\n",
        "a, x, y, z = sp.symbols('a x y z')\n",
        "\n",
        "A = sp.Matrix([2*a*x, 5*a*y, -3*a*z])\n",
        "B = sp.Matrix([3*a*x, -4*a*y, 0])\n",
        "C = sp.Matrix([a*x, a*y, a*z])\n",
        "\n",
        "resultado = (A - 5*C).norm()\n",
        "\n",
        "print(resultado)"
      ],
      "metadata": {
        "colab": {
          "base_uri": "https://localhost:8080/"
        },
        "id": "JwCC_1cUPpPg",
        "outputId": "a17ea0cc-a473-4136-ff9c-343e7397a3da"
      },
      "execution_count": null,
      "outputs": [
        {
          "output_type": "stream",
          "name": "stdout",
          "text": [
            "sqrt(9*Abs(a*x)**2 + 64*Abs(a*z)**2)\n"
          ]
        }
      ]
    },
    {
      "cell_type": "markdown",
      "source": [
        "***QUESTÃO (C)***"
      ],
      "metadata": {
        "id": "ZnZgM6beQY_D"
      }
    },
    {
      "cell_type": "code",
      "source": [
        "import numpy as np\n",
        "\n",
        "a = 1 \n",
        "x = 2 \n",
        "y = 3 \n",
        "z = 4 \n",
        "\n",
        "A = np.array([2*a*x, 5*a*y, -3*a*z])\n",
        "B = np.array([3*a*x, -4*a*y])\n",
        "C = np.array([a*x, a*y, a*z])\n",
        "\n",
        "for k in np.arange(-10, 11):\n",
        "    kB = k * B\n",
        "    modulus = np.linalg.norm(kB)\n",
        "    if np.isclose(modulus, 2):\n",
        "        print(f\"For k = {k}, the modulus of kB is {modulus}.\")\n",
        "print(modulus)"
      ],
      "metadata": {
        "colab": {
          "base_uri": "https://localhost:8080/"
        },
        "id": "un0JQrI9SMsm",
        "outputId": "d21823df-2843-4e28-995e-18076ba46d1e"
      },
      "execution_count": null,
      "outputs": [
        {
          "output_type": "stream",
          "name": "stdout",
          "text": [
            "134.16407864998737\n"
          ]
        }
      ]
    },
    {
      "cell_type": "markdown",
      "source": [
        "***QUESTÃO (D)***"
      ],
      "metadata": {
        "id": "qxx3Gcx8VloI"
      }
    },
    {
      "cell_type": "code",
      "source": [
        "import numpy as np\n",
        "\n",
        "a = 1\n",
        "x = 2\n",
        "y = 3\n",
        "z = 4\n",
        "\n",
        "A = np.array([2*a*x, 5*a*y, -3*a*z])\n",
        "B = np.array([3*a*x, -4*a*y, 0])\n",
        "C = np.array([a*x, a*y, a*z])\n",
        "\n",
        "AxB = np.cross(A, B)\n",
        "\n",
        "A_dot_B = np.dot(A, B)\n",
        "\n",
        "resultado = np.divide(AxB, A_dot_B)\n",
        "\n",
        "print(resultado)"
      ],
      "metadata": {
        "colab": {
          "base_uri": "https://localhost:8080/"
        },
        "id": "A4W-9nNtV3Lz",
        "outputId": "75caab9e-72f9-4cae-e611-05609ceaae34"
      },
      "execution_count": null,
      "outputs": [
        {
          "output_type": "stream",
          "name": "stdout",
          "text": [
            "[0.92307692 0.46153846 0.88461538]\n"
          ]
        }
      ]
    },
    {
      "cell_type": "markdown",
      "source": [
        "***EXERCÍCIO 1.3***"
      ],
      "metadata": {
        "id": "UdwBDVPoZPnA"
      }
    },
    {
      "cell_type": "markdown",
      "source": [
        "***QUESTÃO (A)***"
      ],
      "metadata": {
        "id": "UfOCu3FBZhNf"
      }
    },
    {
      "cell_type": "code",
      "source": [
        "from sympy import symbols, Eq, solve\n",
        "\n",
        "# Definir as variáveis simbólicas\n",
        "a, x, y, z = symbols('a x y z')\n",
        "\n",
        "# Definir as expressões A, B e C\n",
        "A = 2*a*x + a*y - 3*a*z\n",
        "B = a*y - a*z\n",
        "C = 3*a*x + 5*a*y + 7*a*z\n",
        "\n",
        "expr = A - 2*B - C\n",
        "\n",
        "expr_simpl = expr.simplify()\n",
        "\n",
        "print(\"A - 2B - C =\", expr_simpl)"
      ],
      "metadata": {
        "colab": {
          "base_uri": "https://localhost:8080/"
        },
        "id": "0pky2h17Wjon",
        "outputId": "26c38a0d-07cb-400e-e7ea-410c45b5f984"
      },
      "execution_count": null,
      "outputs": [
        {
          "output_type": "stream",
          "name": "stdout",
          "text": [
            "A - 2B - C = a*(-x - 6*y - 8*z)\n"
          ]
        }
      ]
    },
    {
      "cell_type": "markdown",
      "source": [
        "***QUESTÃO (B)***"
      ],
      "metadata": {
        "id": "6QyVopz_ah4m"
      }
    },
    {
      "cell_type": "code",
      "source": [
        "from sympy import symbols, simplify\n",
        "\n",
        "a, x, y, z = symbols('a x y z')\n",
        "\n",
        "A = 2*a*x + a*y - 3*a*z\n",
        "B = a*y - a*z\n",
        "C = 3*a*x + 5*a*y + 7*a*z\n",
        "\n",
        "exp = B*C - 4*(A + B)\n",
        "\n",
        "simpli_exp = simplify(exp)\n",
        "\n",
        "print(\"A expressão simplificada é: \", simpli_exp)\n",
        "simpli_exp.evalf()"
      ],
      "metadata": {
        "colab": {
          "base_uri": "https://localhost:8080/",
          "height": 56
        },
        "id": "Ma6yNv7AanGt",
        "outputId": "a1180e86-b6d4-443a-9007-a6401e5db67f"
      },
      "execution_count": null,
      "outputs": [
        {
          "output_type": "stream",
          "name": "stdout",
          "text": [
            "A expressão simplificada é:  a*(a*(y - z)*(3*x + 5*y + 7*z) - 8*x - 8*y + 16*z)\n"
          ]
        },
        {
          "output_type": "execute_result",
          "data": {
            "text/plain": [
              "a*(a*(y - z)*(3.0*x + 5.0*y + 7.0*z) - 8.0*x - 8.0*y + 16.0*z)"
            ],
            "text/latex": "$\\displaystyle a \\left(a \\left(y - z\\right) \\left(3.0 x + 5.0 y + 7.0 z\\right) - 8.0 x - 8.0 y + 16.0 z\\right)$"
          },
          "metadata": {},
          "execution_count": 15
        }
      ]
    },
    {
      "cell_type": "markdown",
      "source": [
        "***QUESTÃO (C)***"
      ],
      "metadata": {
        "id": "5_5WLpNocyMG"
      }
    },
    {
      "cell_type": "code",
      "source": [
        "from sympy import symbols, sqrt\n",
        "\n",
        "a, x, y, z = symbols('a x y z', real=True)\n",
        "\n",
        "A = 2*a*x + a*y - 3*a*z\n",
        "B = a*y - a*z\n",
        "C = 3*a*x + 5*a*y + 7*a*z\n",
        "\n",
        "dois_A_menos_três_B = 2*A - 3*B\n",
        "\n",
        "magnitude_C = sqrt(C*(C))\n",
        "\n",
        "resultado = dois_A_menos_três_B / magnitude_C\n",
        "\n",
        "print(resultado)\n",
        "resultado.evalf()"
      ],
      "metadata": {
        "colab": {
          "base_uri": "https://localhost:8080/",
          "height": 73
        },
        "id": "91pjlFOtcygo",
        "outputId": "62681ae7-680d-441a-cd5c-6d0d308d5fb1"
      },
      "execution_count": null,
      "outputs": [
        {
          "output_type": "stream",
          "name": "stdout",
          "text": [
            "(4*a*x - a*y - 3*a*z)/Abs(3*a*x + 5*a*y + 7*a*z)\n"
          ]
        },
        {
          "output_type": "execute_result",
          "data": {
            "text/plain": [
              "(4.0*a*x - a*y - 3.0*a*z)/Abs(3*a*x + 5*a*y + 7*a*z)"
            ],
            "text/latex": "$\\displaystyle \\frac{4.0 a x - a y - 3.0 a z}{\\left|{3 a x + 5 a y + 7 a z}\\right|}$"
          },
          "metadata": {},
          "execution_count": 14
        }
      ]
    },
    {
      "cell_type": "markdown",
      "source": [
        "***QUESTÃO (D)***"
      ],
      "metadata": {
        "id": "hd6eYMbbfeCA"
      }
    },
    {
      "cell_type": "code",
      "source": [
        "from sympy import *\n",
        "\n",
        "# Definir variáveis simbólicas\n",
        "a, x, y, z = symbols('a x y z')\n",
        "\n",
        "# Definir as expressões para A, B e C\n",
        "A = Matrix([2*a*x + a*y - 3*a*z, a*y - a*z, 3*a*x + 5*a*y + 7*a*z])\n",
        "B = Matrix([a*y - a*z])\n",
        "C = Matrix([3*a*x + 5*a*y + 7*a*z])\n",
        "\n",
        "# Calcular A . C\n",
        "AC = A*C\n",
        "\n",
        "# Calcular o módulo de B^2\n",
        "B_squared = B.norm()**2\n",
        "\n",
        "# Calcular (D) = A . C - módulo de B^2\n",
        "D = AC[0] - B_squared\n",
        "\n",
        "print(D.simplify())\n",
        "\n",
        "D.evalf()"
      ],
      "metadata": {
        "colab": {
          "base_uri": "https://localhost:8080/",
          "height": 57
        },
        "id": "65MAbE0jfklY",
        "outputId": "a960a233-6564-4852-e433-680fad062418"
      },
      "execution_count": null,
      "outputs": [
        {
          "output_type": "stream",
          "name": "stdout",
          "text": [
            "a**2*(2*x + y - 3*z)*(3*x + 5*y + 7*z) - Abs(a*(y - z))**2\n"
          ]
        },
        {
          "output_type": "execute_result",
          "data": {
            "text/plain": [
              "(2.0*a*x + a*y - 3.0*a*z)*(3.0*a*x + 5.0*a*y + 7.0*a*z) - Abs(a*y - a*z)**2"
            ],
            "text/latex": "$\\displaystyle \\left(2.0 a x + a y - 3.0 a z\\right) \\left(3.0 a x + 5.0 a y + 7.0 a z\\right) - \\left|{a y - a z}\\right|^{2}$"
          },
          "metadata": {},
          "execution_count": 27
        }
      ]
    },
    {
      "cell_type": "markdown",
      "source": [
        "***QUESTÃO (E)***"
      ],
      "metadata": {
        "id": "rCziYIi6iYX6"
      }
    },
    {
      "cell_type": "code",
      "source": [
        "import sympy as sp\n",
        "\n",
        "a, x, y, z = sp.symbols('a x y z')\n",
        "\n",
        "A = sp.Matrix([2*a*x, a*y, -3*a*z])\n",
        "B = sp.Matrix([0, a*y, -a*z])\n",
        "C = sp.Matrix([3*a*x, 5*a*y, 7*a*z])\n",
        "\n",
        "E = (1/2) * B.cross((1/3)*A + (1/4)*C)\n",
        "\n",
        "print(\"E =\", E)\n",
        "\n",
        "E.evalf()"
      ],
      "metadata": {
        "colab": {
          "base_uri": "https://localhost:8080/",
          "height": 95
        },
        "id": "Sog1BKTOikfe",
        "outputId": "979a1acf-cf28-4e94-81b9-d26634b383dd"
      },
      "execution_count": null,
      "outputs": [
        {
          "output_type": "stream",
          "name": "stdout",
          "text": [
            "E = Matrix([[1.16666666666667*a**2*y*z], [-0.708333333333333*a**2*x*z], [-0.708333333333333*a**2*x*y]])\n"
          ]
        },
        {
          "output_type": "execute_result",
          "data": {
            "text/plain": [
              "Matrix([\n",
              "[  1.16666666666667*a**2*y*z],\n",
              "[-0.708333333333333*a**2*x*z],\n",
              "[-0.708333333333333*a**2*x*y]])"
            ],
            "text/latex": "$\\displaystyle \\left[\\begin{matrix}1.16666666666667 a^{2} y z\\\\- 0.708333333333333 a^{2} x z\\\\- 0.708333333333333 a^{2} x y\\end{matrix}\\right]$"
          },
          "metadata": {},
          "execution_count": 29
        }
      ]
    },
    {
      "cell_type": "markdown",
      "source": [
        "***EXERCÍCIO 1.4***"
      ],
      "metadata": {
        "id": "utr9Q_Hejp3o"
      }
    },
    {
      "cell_type": "markdown",
      "source": [
        "***QUESTÃO (A)***"
      ],
      "metadata": {
        "id": "0mb-HlLpk23Z"
      }
    },
    {
      "cell_type": "code",
      "source": [
        "import sympy as sp\n",
        "\n",
        "a, x, y, z = sp.symbols('a x y z')\n",
        "\n",
        "T = sp.Matrix([3*a*x, -2*a*y, a*z])\n",
        "\n",
        "S = sp.Matrix([4*a*x, 6*a*y, 2*a*z])\n",
        "\n",
        "print(\"Coordenadas do ponto T:\", T)\n",
        "print(\"Coordenadas do ponto S:\", S)\n",
        "T.evalf()\n",
        "S.evalf()"
      ],
      "metadata": {
        "colab": {
          "base_uri": "https://localhost:8080/",
          "height": 113
        },
        "id": "bfFztp_ejzMX",
        "outputId": "23f254dd-0df3-4373-befc-481caa2e2a45"
      },
      "execution_count": null,
      "outputs": [
        {
          "output_type": "stream",
          "name": "stdout",
          "text": [
            "Coordenadas do ponto T: Matrix([[3*a*x], [-2*a*y], [a*z]])\n",
            "Coordenadas do ponto S: Matrix([[4*a*x], [6*a*y], [2*a*z]])\n"
          ]
        },
        {
          "output_type": "execute_result",
          "data": {
            "text/plain": [
              "Matrix([\n",
              "[4.0*a*x],\n",
              "[6.0*a*y],\n",
              "[2.0*a*z]])"
            ],
            "text/latex": "$\\displaystyle \\left[\\begin{matrix}4.0 a x\\\\6.0 a y\\\\2.0 a z\\end{matrix}\\right]$"
          },
          "metadata": {},
          "execution_count": 31
        }
      ]
    },
    {
      "cell_type": "markdown",
      "source": [
        "***QUESTÃO (B)***"
      ],
      "metadata": {
        "id": "qtGzWt-JlSPJ"
      }
    },
    {
      "cell_type": "code",
      "source": [
        "import sympy as sp\n",
        "\n",
        "a, x, y, z = sp.symbols('a x y z')\n",
        "\n",
        "T = sp.Matrix([3*a*x, -2*a*y, a*z])\n",
        "\n",
        "S = sp.Matrix([4*a*x, 6*a*y, 2*a*z])\n",
        "\n",
        "distancia_TS = S - T\n",
        "\n",
        "print(\"Vetor distância de T até S: \", distancia_TS)\n",
        "\n"
      ],
      "metadata": {
        "colab": {
          "base_uri": "https://localhost:8080/"
        },
        "id": "-b-qxe73lRpU",
        "outputId": "4134b7fc-9b1d-4776-a4f8-eced315e0577"
      },
      "execution_count": null,
      "outputs": [
        {
          "output_type": "stream",
          "name": "stdout",
          "text": [
            "Vetor distância de T até S:  Matrix([[a*x], [8*a*y], [a*z]])\n"
          ]
        }
      ]
    },
    {
      "cell_type": "markdown",
      "source": [
        "***QUESTÃO (C)***"
      ],
      "metadata": {
        "id": "0jZs3GJtnelv"
      }
    },
    {
      "cell_type": "code",
      "source": [
        "import sympy as sp\n",
        "\n",
        "a, x, y, z = sp.symbols('a x y z')\n",
        "\n",
        "T = sp.Matrix([3*a*x, -2*a*y, a*z])\n",
        "S = sp.Matrix([4*a*x, 6*a*y, 2*a*z])\n",
        "\n",
        "distancia = sp.sqrt(((T - S).norm())**2)\n",
        "\n",
        "distancia = sp.simplify(distancia)\n",
        "\n",
        "print(\"A distância entre T e S é:\", distancia)\n",
        "distancia.evalf()"
      ],
      "metadata": {
        "colab": {
          "base_uri": "https://localhost:8080/",
          "height": 68
        },
        "id": "JxZOlHQPnzRw",
        "outputId": "c89bf9a8-c080-4b44-903b-8e7e03806f2b"
      },
      "execution_count": null,
      "outputs": [
        {
          "output_type": "stream",
          "name": "stdout",
          "text": [
            "A distância entre T e S é: sqrt(Abs(a*x)**2 + 64*Abs(a*y)**2 + Abs(a*z)**2)\n"
          ]
        },
        {
          "output_type": "execute_result",
          "data": {
            "text/plain": [
              "8.0*(0.015625*Abs(a*x)**2 + Abs(a*y)**2 + 0.015625*Abs(a*z)**2)**0.5"
            ],
            "text/latex": "$\\displaystyle 8.0 \\left(0.015625 \\left|{a x}\\right|^{2} + \\left|{a y}\\right|^{2} + 0.015625 \\left|{a z}\\right|^{2}\\right)^{0.5}$"
          },
          "metadata": {},
          "execution_count": 36
        }
      ]
    },
    {
      "cell_type": "markdown",
      "source": [
        "***EXERCÍCIO 1.5***"
      ],
      "metadata": {
        "id": "bdpDa3rMtKIn"
      }
    },
    {
      "cell_type": "code",
      "source": [
        "from sympy import symbols, Eq, solve\n",
        "\n",
        "alfa, beta = symbols('alfa beta')\n",
        "\n",
        "A = [5*alfa, 3*alfa, 2*alfa]\n",
        "B = [-1*alfa, 4*beta, 6*beta]\n",
        "C = [0, 8*alfa + 2*beta, 0]\n",
        "\n",
        "# Verificando as condições de paralelismo ao eixo y\n",
        "eq1 = Eq(A[0]*alfa + B[0]*beta + C[0], 0) \n",
        "eq2 = Eq(A[1]*alfa + B[1]*beta + C[1], 0) \n",
        "eq3 = Eq(A[2]*alfa + B[2]*beta + C[2], 0)  \n",
        "\n",
        "sol = solve((eq1, eq2, eq3), (alfa, beta))\n",
        "\n",
        "valores_alfa = sol[0][0]\n",
        "valores_beta = sol[0][1]\n",
        "\n",
        "print(\"Valores de alfa:\", valores_alfa)\n",
        "print(\"Valores de beta:\", valores_beta)"
      ],
      "metadata": {
        "colab": {
          "base_uri": "https://localhost:8080/"
        },
        "id": "2-PdkqqwxY8W",
        "outputId": "6939215e-1e8b-4a34-8658-ea9aea01b6a5"
      },
      "execution_count": 10,
      "outputs": [
        {
          "output_type": "stream",
          "name": "stdout",
          "text": [
            "Valores de alfa: 0\n",
            "Valores de beta: 0\n"
          ]
        }
      ]
    },
    {
      "cell_type": "markdown",
      "source": [
        "***EXERCÍCIO 1.6***"
      ],
      "metadata": {
        "id": "GJyCG9Icx87e"
      }
    },
    {
      "cell_type": "code",
      "source": [
        "from sympy import symbols, Eq, solve\n",
        "\n",
        "alfa, beta, gama = symbols('alfa beta gama')\n",
        "\n",
        "A = [alfa, 1, 4]\n",
        "B = [3, beta, -6]\n",
        "C = [5, -2, gama]\n",
        "\n",
        "eq1 = Eq(A[0]*B[0] + A[1]*B[1] + A[2]*B[2], 0)  \n",
        "eq2 = Eq(A[0]*C[0] + A[1]*C[1] + A[2]*C[2], 0) \n",
        "eq3 = Eq(B[0]*C[0] + B[1]*C[1] + B[2]*C[2], 0) \n",
        "\n",
        "sol = solve((eq1, eq2, eq3), (alfa, beta, gama))\n",
        "\n",
        "valores_alfa = sol[0][alfa]\n",
        "valores_beta = sol[0][beta]\n",
        "valores_gama = sol[0][gama]\n",
        "\n",
        "print(\"Valores de alfa:\", valores_alfa)\n",
        "print(\"Valores de beta:\", valores_beta)\n",
        "print(\"Valores de gama:\", valores_gama)"
      ],
      "metadata": {
        "id": "AYNoIWRQyOJ2"
      },
      "execution_count": null,
      "outputs": []
    },
    {
      "cell_type": "markdown",
      "source": [
        "***EXERCÍCIO 1.7***"
      ],
      "metadata": {
        "id": "QJj10Pku7kQl"
      }
    },
    {
      "cell_type": "markdown",
      "source": [
        "***QUESTÃO (A)***"
      ],
      "metadata": {
        "id": "STFsxcLG8sKT"
      }
    },
    {
      "cell_type": "code",
      "source": [
        "from sympy import symbols, Matrix\n",
        "\n",
        "a1, a2, a3 = symbols('a1 a2 a3')\n",
        "b1, b2, b3 = symbols('b1 b2 b3')\n",
        "\n",
        "A = Matrix([a1, a2, a3])\n",
        "B = Matrix([b1, b2, b3])\n",
        "\n",
        "AB = A.dot(B)\n",
        "\n",
        "Ax_B = A.cross(B)\n",
        "\n",
        "AB_squared = AB**2\n",
        "\n",
        "Ax_B_squared = Ax_B.norm()**2\n",
        "\n",
        "AB_squared_combined = (AB*AB).simplify()\n",
        "\n",
        "lhs = AB_squared + Ax_B_squared\n",
        "rhs = AB_squared_combined\n",
        "equal = lhs.equals(rhs)\n",
        "\n",
        "if equal:\n",
        "    print(\"(A . B)^2 + (A x B)^2 = (AB)^2 é verdadeiro.\")\n",
        "else:\n",
        "    print(\"(A . B)^2 + (A x B)^2 = (AB)^2 é falso.\")\n"
      ],
      "metadata": {
        "colab": {
          "base_uri": "https://localhost:8080/"
        },
        "id": "5lW5TTII8CHl",
        "outputId": "7e0e3bd5-268d-4e6b-e7fc-c465a3ab3824"
      },
      "execution_count": 16,
      "outputs": [
        {
          "output_type": "stream",
          "name": "stdout",
          "text": [
            "(A . B)^2 + (A x B)^2 = (AB)^2 é falso.\n"
          ]
        }
      ]
    },
    {
      "cell_type": "markdown",
      "source": [
        "***QUESTÃO (B)***"
      ],
      "metadata": {
        "id": "P6DXSJAY-MR8"
      }
    },
    {
      "cell_type": "code",
      "source": [
        "from sympy import symbols, Eq, simplify\n",
        "from sympy.vector import CoordSys3D\n",
        "\n",
        "ax, ay, az = symbols('ax ay az')\n",
        "\n",
        "N = CoordSys3D('N')\n",
        "\n",
        "ax_vector = N.i * ax\n",
        "ay_vector = N.j * ay\n",
        "az_vector = N.k * az\n",
        "\n",
        "eq1 = Eq(ax_vector, (ay_vector.cross(az_vector) / (ax_vector.dot(ay_vector).cross(az_vector))))\n",
        "eq1_simplified = simplify(eq1)\n",
        "\n",
        "eq2 = Eq(ay_vector, (az_vector.cross(ax_vector) / (ax_vector.dot(ay_vector).cross(az_vector))))\n",
        "eq2_simplified = simplify(eq2)\n",
        "\n",
        "eq3 = Eq(az_vector, (ax_vector.cross(az_vector) / (ax_vector.dot(ay_vector).cross(az_vector))))\n",
        "eq3_simplified = simplify(eq3)\n",
        "\n",
        "print(\"ax = ay x az / (ax . ay) x az: \", eq1_simplified)\n",
        "print(\"ay = az x ax / (ax . ay) x az: \", eq2_simplified)\n",
        "print(\"az = ax x az / (ax . ay) x az: \", eq3_simplified)"
      ],
      "metadata": {
        "id": "9bjtjL-E-RM7"
      },
      "execution_count": null,
      "outputs": []
    },
    {
      "cell_type": "markdown",
      "source": [
        "***EXERCÍCIO 1.11***"
      ],
      "metadata": {
        "id": "WiSQLWO0A_xr"
      }
    },
    {
      "cell_type": "code",
      "source": [
        "from sympy import symbols, atan, asin, acos, deg\n",
        "\n",
        "ax, ay, az = symbols('ax ay az')\n",
        "\n",
        "Hx = 3 * ax\n",
        "Hy = 5 * ay\n",
        "Hz = -8 * az\n",
        "\n",
        "angle_x = atan(Hy / Hz)\n",
        "\n",
        "angle_y = atan(Hx / Hz)\n",
        "\n",
        "angle_z = atan(Hx / Hy)\n",
        "\n",
        "angle_x_deg = deg(angle_x)\n",
        "angle_y_deg = deg(angle_y)\n",
        "angle_z_deg = deg(angle_z)\n",
        "\n",
        "print(\"Ângulo com o eixo x: \", angle_x_deg, \"graus\")\n",
        "print(\"Ângulo com o eixo y: \", angle_y_deg, \"graus\")\n",
        "print(\"Ângulo com o eixo z: \", angle_z_deg, \"graus\")"
      ],
      "metadata": {
        "colab": {
          "base_uri": "https://localhost:8080/"
        },
        "id": "HukC-1OABPCb",
        "outputId": "2652093f-c856-4b90-c447-9d6694d98698"
      },
      "execution_count": 20,
      "outputs": [
        {
          "output_type": "stream",
          "name": "stdout",
          "text": [
            "Ângulo com o eixo x:  -180*atan(5*ay/(8*az))/pi graus\n",
            "Ângulo com o eixo y:  -180*atan(3*ax/(8*az))/pi graus\n",
            "Ângulo com o eixo z:  180*atan(3*ax/(5*ay))/pi graus\n"
          ]
        }
      ]
    },
    {
      "cell_type": "markdown",
      "source": [
        "***EXERCÍCIO 1.12***"
      ],
      "metadata": {
        "id": "cADQm3cbCQ4l"
      }
    },
    {
      "cell_type": "code",
      "source": [
        "from sympy import symbols\n",
        "\n",
        "ax, ay, az = symbols('ax ay az')\n",
        "\n",
        "Px = 2 * ax\n",
        "Py = -ay\n",
        "Pz = az\n",
        "\n",
        "Qx = ax\n",
        "Qy = ay\n",
        "Qz = az\n",
        "\n",
        "Rx = 2 * ax\n",
        "Ry = 0\n",
        "Rz = 3 * az\n",
        "\n",
        "P_dot_Q_cross_R = 1*((Px, Py, Pz), ((Qy * Rz - Qz * Ry), (Qz * Rx - Qx * Rz), (Qx * Ry - Qy * Rx)))\n",
        "\n",
        "print(\"Produto escalar triplo de P, Q e R:\", P_dot_Q_cross_R)"
      ],
      "metadata": {
        "colab": {
          "base_uri": "https://localhost:8080/"
        },
        "id": "QLMzdiltDLv0",
        "outputId": "f26dfa63-b5c4-4a23-944f-f24f7482c228"
      },
      "execution_count": 22,
      "outputs": [
        {
          "output_type": "stream",
          "name": "stdout",
          "text": [
            "Produto escalar triplo de P, Q e R: ((2*ax, -ay, az), (3*ay*az, -ax*az, -2*ax*ay))\n"
          ]
        }
      ]
    },
    {
      "cell_type": "markdown",
      "source": [
        "***EXERCÍCIO 1.13***"
      ],
      "metadata": {
        "id": "UHTHGPK-DqQq"
      }
    },
    {
      "cell_type": "markdown",
      "source": [
        "***QUESTÃO (A)***"
      ],
      "metadata": {
        "id": "ygLlgaQoD0g5"
      }
    },
    {
      "cell_type": "code",
      "source": [
        "from sympy import symbols, simplify\n",
        "from sympy.vector import CoordSys3D\n",
        "\n",
        "a = symbols('a')\n",
        "\n",
        "N = CoordSys3D('N')\n",
        "\n",
        "A = a * N.i + a * N.j + a * N.k\n",
        "B = N.i + N.j + N.k\n",
        "\n",
        "result = A.cross(A.cross(B))\n",
        "\n",
        "result_simplified = simplify(result)\n",
        "\n",
        "print(\"A x (A x B) simplificado: \", result_simplified)"
      ],
      "metadata": {
        "colab": {
          "base_uri": "https://localhost:8080/"
        },
        "id": "5lG0qWNWDzRq",
        "outputId": "5eeb9467-034a-41ec-9461-9e454dff3147"
      },
      "execution_count": 23,
      "outputs": [
        {
          "output_type": "stream",
          "name": "stdout",
          "text": [
            "A x (A x B) simplificado:  0\n"
          ]
        }
      ]
    },
    {
      "cell_type": "markdown",
      "source": [
        "***QUESTÃO (B)***"
      ],
      "metadata": {
        "id": "1PpptO2eEwjZ"
      }
    },
    {
      "cell_type": "code",
      "source": [
        "from sympy import symbols, Matrix, simplify\n",
        "\n",
        "# Definindo as matrizes como símbolos\n",
        "A = Matrix(symbols('A_00 A_01 A_02; A_10 A_11 A_12; A_20 A_21 A_22'))\n",
        "B = Matrix(symbols('B_00 B_01 B_02; B_10 B_11 B_12; B_20 B_21 B_22'))\n",
        "\n",
        "# Simplificando a expressão (b)\n",
        "simplified_expr = A * (A * (A * B))\n",
        "simplified_expr = simplified_expr.simplify()\n",
        "\n",
        "# Exibindo a expressão simplificada\n",
        "print(simplified_expr)"
      ],
      "metadata": {
        "id": "GRvTNvjkE2oI"
      },
      "execution_count": null,
      "outputs": []
    },
    {
      "cell_type": "markdown",
      "source": [
        "***EXERCÍCIO 1.14***"
      ],
      "metadata": {
        "id": "59weLW7JGnkq"
      }
    },
    {
      "cell_type": "code",
      "source": [
        "from sympy import symbols, Matrix\n",
        "\n",
        "A = Matrix(symbols('A_0 A_1 A_2'))\n",
        "B = Matrix(symbols('B_0 B_1 B_2'))\n",
        "C = Matrix(symbols('C_0 C_1 C_2'))\n",
        "\n",
        "dot_product_triple1 = A.dot(B.cross(C))\n",
        "\n",
        "cross_product1 = A.cross(B)\n",
        "dot_product_triple2 = cross_product1.dot(C)\n",
        "\n",
        "print(\"A . (B x C) = \", dot_product_triple1)\n",
        "print(\"(A x B) . C = \", dot_product_triple2)\n",
        "\n",
        "if dot_product_triple1 == dot_product_triple2:\n",
        "    print(\"Os sinais de ponto e de vezes podem ser intercambiados no produto escalar triplo.\")\n",
        "else:\n",
        "    print(\"Os sinais de ponto e de vezes NÃO podem ser intercambiados no produto escalar triplo.\")"
      ],
      "metadata": {
        "colab": {
          "base_uri": "https://localhost:8080/"
        },
        "id": "kDZepEtHGnDf",
        "outputId": "07180aac-f3f7-42ce-c739-d689b74df1d5"
      },
      "execution_count": 27,
      "outputs": [
        {
          "output_type": "stream",
          "name": "stdout",
          "text": [
            "A . (B x C) =  A_0*(B_1*C_2 - B_2*C_1) + A_1*(-B_0*C_2 + B_2*C_0) + A_2*(B_0*C_1 - B_1*C_0)\n",
            "(A x B) . C =  C_0*(A_1*B_2 - A_2*B_1) + C_1*(-A_0*B_2 + A_2*B_0) + C_2*(A_0*B_1 - A_1*B_0)\n",
            "Os sinais de ponto e de vezes NÃO podem ser intercambiados no produto escalar triplo.\n"
          ]
        }
      ]
    },
    {
      "cell_type": "markdown",
      "source": [
        "***EXERCÍCIO 1.15***"
      ],
      "metadata": {
        "id": "4HFNgivaJ5y6"
      }
    },
    {
      "cell_type": "code",
      "source": [
        "from sympy import Matrix\n",
        "\n",
        "P1 = Matrix([1, 2, 3])\n",
        "P2 = Matrix([-5, 2, 0])\n",
        "P3 = Matrix([2, 7, -3])\n",
        "\n",
        "V1 = P2 - P1\n",
        "V2 = P3 - P1\n",
        "\n",
        "produto_vetorial = V1.cross(V2)\n",
        "\n",
        "area = produto_vetorial.norm() / 2\n",
        "\n",
        "print(\"A área do triângulo é:\", area)"
      ],
      "metadata": {
        "colab": {
          "base_uri": "https://localhost:8080/"
        },
        "id": "vIOsjzhpJ-qC",
        "outputId": "4b296fde-7610-4a3a-f61d-3d0a7c519816"
      },
      "execution_count": 28,
      "outputs": [
        {
          "output_type": "stream",
          "name": "stdout",
          "text": [
            "A área do triângulo é: 21*sqrt(6)/2\n"
          ]
        }
      ]
    },
    {
      "cell_type": "markdown",
      "source": [
        "***EXERCÍCIO 1.16***"
      ],
      "metadata": {
        "id": "RdRb6R9HLIKY"
      }
    },
    {
      "cell_type": "code",
      "source": [
        "from sympy import Matrix, pi, acos, deg\n",
        "\n",
        "P1 = Matrix([4, 1, -3])\n",
        "P2 = Matrix([-2, 5, 4])\n",
        "P3 = Matrix([0, 1, 6])\n",
        "\n",
        "V1 = P2 - P1\n",
        "V2 = P3 - P1\n",
        "V3 = P2 - P3\n",
        "\n",
        "def calcular_angulo(v1, v2):\n",
        "    angulo = acos(v1.dot(v2) / (v1.norm() * v2.norm()))\n",
        "    return angulo\n",
        "\n",
        "angulo1 = calcular_angulo(V1, V2)\n",
        "angulo2 = calcular_angulo(V2, V3)\n",
        "angulo3 = calcular_angulo(V3, V1)\n",
        "\n",
        "angulo1_graus = deg(angulo1)\n",
        "angulo2_graus = deg(angulo2)\n",
        "angulo3_graus = deg(angulo3)\n",
        "\n",
        "print(\"Ângulo 1: \", angulo1_graus, \"graus\")\n",
        "print(\"Ângulo 2: \", angulo2_graus, \"graus\")\n",
        "print(\"Ângulo 3: \", angulo3_graus, \"graus\")"
      ],
      "metadata": {
        "colab": {
          "base_uri": "https://localhost:8080/"
        },
        "id": "2ki7QbHELMH4",
        "outputId": "55e52fc7-0443-4da8-e493-90054eeae4d7"
      },
      "execution_count": 29,
      "outputs": [
        {
          "output_type": "stream",
          "name": "stdout",
          "text": [
            "Ângulo 1:  180*acos(87*sqrt(9797)/9797)/pi graus\n",
            "Ângulo 2:  180*acos(-5*sqrt(582)/582)/pi graus\n",
            "Ângulo 3:  180*acos(7*sqrt(606)/606)/pi graus\n"
          ]
        }
      ]
    }
  ]
}