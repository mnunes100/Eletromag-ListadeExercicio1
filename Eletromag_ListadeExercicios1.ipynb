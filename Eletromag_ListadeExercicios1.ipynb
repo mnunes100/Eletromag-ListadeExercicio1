{
  "nbformat": 4,
  "nbformat_minor": 0,
  "metadata": {
    "colab": {
      "provenance": [],
      "authorship_tag": "ABX9TyO+99JbAi0wm3hoolsI68Ce",
      "include_colab_link": true
    },
    "kernelspec": {
      "name": "python3",
      "display_name": "Python 3"
    },
    "language_info": {
      "name": "python"
    }
  },
  "cells": [
    {
      "cell_type": "markdown",
      "metadata": {
        "id": "view-in-github",
        "colab_type": "text"
      },
      "source": [
        "<a href=\"https://colab.research.google.com/github/mnunes100/Eletromag-ListadeExercicio1/blob/main/Eletromag_ListadeExercicios1.ipynb\" target=\"_parent\"><img src=\"https://colab.research.google.com/assets/colab-badge.svg\" alt=\"Open In Colab\"/></a>"
      ]
    },
    {
      "cell_type": "markdown",
      "source": [
        "***EXERCÍCIO 1.1***"
      ],
      "metadata": {
        "id": "UsrBbdLiGgd8"
      }
    },
    {
      "cell_type": "code",
      "execution_count": null,
      "metadata": {
        "colab": {
          "base_uri": "https://localhost:8080/"
        },
        "id": "7tmSulyAEeDo",
        "outputId": "0a25ad03-9583-44c2-f691-ef2e8bb77921"
      },
      "outputs": [
        {
          "output_type": "stream",
          "name": "stdout",
          "text": [
            "[-0.8703882797784892, -0.3481553119113957, -0.3481553119113957]\n"
          ]
        }
      ],
      "source": [
        "vetor = [-3-2, 2-4, 2-4]\n",
        "\n",
        "comprimento = ((-3-2)**2 + (2-4)**2 + (2-4)**2)**0.5\n",
        "\n",
        "vetor_unitario = [vetor[0]/comprimento, vetor[1]/comprimento, vetor[2]/comprimento]\n",
        "\n",
        "ponto1 = (2, 4, 4)\n",
        "ponto2 = (-3, 2, 2)\n",
        "\n",
        "vetor = [ponto2[i] - ponto1[i] for i in range(3)]\n",
        "\n",
        "comprimento = sum([componente**2 for componente in vetor])**0.5\n",
        "\n",
        "vetor_unitario = [componente/comprimento for componente in vetor]\n",
        "\n",
        "print(vetor_unitario)"
      ]
    },
    {
      "cell_type": "markdown",
      "source": [
        "***EXERCÍCIO 1.2***\n"
      ],
      "metadata": {
        "id": "C2oJHwTUHSSf"
      }
    },
    {
      "cell_type": "markdown",
      "source": [
        " ***QUESTÃO (A)***"
      ],
      "metadata": {
        "id": "zhx7ilzbNo6w"
      }
    },
    {
      "cell_type": "code",
      "source": [
        "\n",
        "import sympy\n",
        "\n",
        "\n",
        "a, x, y, z = sympy.symbols('a x y z')\n",
        "\n",
        "A = 2*a*x + 5*a*y - 3*a*z\n",
        "B = 3*a*x - 4*a*y\n",
        "C = a*x + a*y + a*z\n",
        "\n",
        "resultado = A + 2*B\n",
        "\n",
        "print(resultado)"
      ],
      "metadata": {
        "colab": {
          "base_uri": "https://localhost:8080/"
        },
        "id": "xjFCDsO4HSsZ",
        "outputId": "f88da672-0598-4330-836a-d8d946ae01e6"
      },
      "execution_count": null,
      "outputs": [
        {
          "output_type": "stream",
          "name": "stdout",
          "text": [
            "8*a*x - 3*a*y - 3*a*z\n"
          ]
        }
      ]
    },
    {
      "cell_type": "markdown",
      "source": [
        " ***QUESTÃO (B)***"
      ],
      "metadata": {
        "id": "qtBKWx15Po1s"
      }
    },
    {
      "cell_type": "code",
      "source": [
        "import sympy as sp\n",
        "\n",
        "a, x, y, z = sp.symbols('a x y z')\n",
        "\n",
        "A = sp.Matrix([2*a*x, 5*a*y, -3*a*z])\n",
        "B = sp.Matrix([3*a*x, -4*a*y, 0])\n",
        "C = sp.Matrix([a*x, a*y, a*z])\n",
        "\n",
        "resultado = (A - 5*C).norm()\n",
        "\n",
        "print(resultado)"
      ],
      "metadata": {
        "colab": {
          "base_uri": "https://localhost:8080/"
        },
        "id": "JwCC_1cUPpPg",
        "outputId": "a17ea0cc-a473-4136-ff9c-343e7397a3da"
      },
      "execution_count": null,
      "outputs": [
        {
          "output_type": "stream",
          "name": "stdout",
          "text": [
            "sqrt(9*Abs(a*x)**2 + 64*Abs(a*z)**2)\n"
          ]
        }
      ]
    },
    {
      "cell_type": "markdown",
      "source": [
        "***QUESTÃO (C)***"
      ],
      "metadata": {
        "id": "ZnZgM6beQY_D"
      }
    },
    {
      "cell_type": "code",
      "source": [
        "import numpy as np\n",
        "\n",
        "a = 1 \n",
        "x = 2 \n",
        "y = 3 \n",
        "z = 4 \n",
        "\n",
        "A = np.array([2*a*x, 5*a*y, -3*a*z])\n",
        "B = np.array([3*a*x, -4*a*y])\n",
        "C = np.array([a*x, a*y, a*z])\n",
        "\n",
        "for k in np.arange(-10, 11):\n",
        "    kB = k * B\n",
        "    modulus = np.linalg.norm(kB)\n",
        "    if np.isclose(modulus, 2):\n",
        "        print(f\"For k = {k}, the modulus of kB is {modulus}.\")\n",
        "print(modulus)"
      ],
      "metadata": {
        "colab": {
          "base_uri": "https://localhost:8080/"
        },
        "id": "un0JQrI9SMsm",
        "outputId": "d21823df-2843-4e28-995e-18076ba46d1e"
      },
      "execution_count": null,
      "outputs": [
        {
          "output_type": "stream",
          "name": "stdout",
          "text": [
            "134.16407864998737\n"
          ]
        }
      ]
    },
    {
      "cell_type": "markdown",
      "source": [
        "***QUESTÃO (D)***"
      ],
      "metadata": {
        "id": "qxx3Gcx8VloI"
      }
    },
    {
      "cell_type": "code",
      "source": [
        "import numpy as np\n",
        "\n",
        "a = 1\n",
        "x = 2\n",
        "y = 3\n",
        "z = 4\n",
        "\n",
        "A = np.array([2*a*x, 5*a*y, -3*a*z])\n",
        "B = np.array([3*a*x, -4*a*y, 0])\n",
        "C = np.array([a*x, a*y, a*z])\n",
        "\n",
        "AxB = np.cross(A, B)\n",
        "\n",
        "A_dot_B = np.dot(A, B)\n",
        "\n",
        "resultado = np.divide(AxB, A_dot_B)\n",
        "\n",
        "print(resultado)"
      ],
      "metadata": {
        "colab": {
          "base_uri": "https://localhost:8080/"
        },
        "id": "A4W-9nNtV3Lz",
        "outputId": "75caab9e-72f9-4cae-e611-05609ceaae34"
      },
      "execution_count": null,
      "outputs": [
        {
          "output_type": "stream",
          "name": "stdout",
          "text": [
            "[0.92307692 0.46153846 0.88461538]\n"
          ]
        }
      ]
    },
    {
      "cell_type": "markdown",
      "source": [
        "***EXERCÍCIO 1.3***"
      ],
      "metadata": {
        "id": "UdwBDVPoZPnA"
      }
    },
    {
      "cell_type": "markdown",
      "source": [
        "***QUESTÃO (A)***"
      ],
      "metadata": {
        "id": "UfOCu3FBZhNf"
      }
    },
    {
      "cell_type": "code",
      "source": [
        "from sympy import symbols, Eq, solve\n",
        "\n",
        "# Definir as variáveis simbólicas\n",
        "a, x, y, z = symbols('a x y z')\n",
        "\n",
        "# Definir as expressões A, B e C\n",
        "A = 2*a*x + a*y - 3*a*z\n",
        "B = a*y - a*z\n",
        "C = 3*a*x + 5*a*y + 7*a*z\n",
        "\n",
        "expr = A - 2*B - C\n",
        "\n",
        "expr_simpl = expr.simplify()\n",
        "\n",
        "print(\"A - 2B - C =\", expr_simpl)"
      ],
      "metadata": {
        "colab": {
          "base_uri": "https://localhost:8080/"
        },
        "id": "0pky2h17Wjon",
        "outputId": "26c38a0d-07cb-400e-e7ea-410c45b5f984"
      },
      "execution_count": null,
      "outputs": [
        {
          "output_type": "stream",
          "name": "stdout",
          "text": [
            "A - 2B - C = a*(-x - 6*y - 8*z)\n"
          ]
        }
      ]
    },
    {
      "cell_type": "markdown",
      "source": [
        "***QUESTÃO (B)***"
      ],
      "metadata": {
        "id": "6QyVopz_ah4m"
      }
    },
    {
      "cell_type": "code",
      "source": [
        "from sympy import symbols, simplify\n",
        "\n",
        "a, x, y, z = symbols('a x y z')\n",
        "\n",
        "A = 2*a*x + a*y - 3*a*z\n",
        "B = a*y - a*z\n",
        "C = 3*a*x + 5*a*y + 7*a*z\n",
        "\n",
        "exp = B*C - 4*(A + B)\n",
        "\n",
        "simpli_exp = simplify(exp)\n",
        "\n",
        "print(\"A expressão simplificada é: \", simpli_exp)\n",
        "simpli_exp.evalf()"
      ],
      "metadata": {
        "colab": {
          "base_uri": "https://localhost:8080/",
          "height": 56
        },
        "id": "Ma6yNv7AanGt",
        "outputId": "a1180e86-b6d4-443a-9007-a6401e5db67f"
      },
      "execution_count": null,
      "outputs": [
        {
          "output_type": "stream",
          "name": "stdout",
          "text": [
            "A expressão simplificada é:  a*(a*(y - z)*(3*x + 5*y + 7*z) - 8*x - 8*y + 16*z)\n"
          ]
        },
        {
          "output_type": "execute_result",
          "data": {
            "text/plain": [
              "a*(a*(y - z)*(3.0*x + 5.0*y + 7.0*z) - 8.0*x - 8.0*y + 16.0*z)"
            ],
            "text/latex": "$\\displaystyle a \\left(a \\left(y - z\\right) \\left(3.0 x + 5.0 y + 7.0 z\\right) - 8.0 x - 8.0 y + 16.0 z\\right)$"
          },
          "metadata": {},
          "execution_count": 15
        }
      ]
    },
    {
      "cell_type": "markdown",
      "source": [
        "***QUESTÃO (C)***"
      ],
      "metadata": {
        "id": "5_5WLpNocyMG"
      }
    },
    {
      "cell_type": "code",
      "source": [
        "from sympy import symbols, sqrt\n",
        "\n",
        "a, x, y, z = symbols('a x y z', real=True)\n",
        "\n",
        "A = 2*a*x + a*y - 3*a*z\n",
        "B = a*y - a*z\n",
        "C = 3*a*x + 5*a*y + 7*a*z\n",
        "\n",
        "dois_A_menos_três_B = 2*A - 3*B\n",
        "\n",
        "magnitude_C = sqrt(C*(C))\n",
        "\n",
        "resultado = dois_A_menos_três_B / magnitude_C\n",
        "\n",
        "print(resultado)\n",
        "resultado.evalf()"
      ],
      "metadata": {
        "colab": {
          "base_uri": "https://localhost:8080/",
          "height": 73
        },
        "id": "91pjlFOtcygo",
        "outputId": "62681ae7-680d-441a-cd5c-6d0d308d5fb1"
      },
      "execution_count": null,
      "outputs": [
        {
          "output_type": "stream",
          "name": "stdout",
          "text": [
            "(4*a*x - a*y - 3*a*z)/Abs(3*a*x + 5*a*y + 7*a*z)\n"
          ]
        },
        {
          "output_type": "execute_result",
          "data": {
            "text/plain": [
              "(4.0*a*x - a*y - 3.0*a*z)/Abs(3*a*x + 5*a*y + 7*a*z)"
            ],
            "text/latex": "$\\displaystyle \\frac{4.0 a x - a y - 3.0 a z}{\\left|{3 a x + 5 a y + 7 a z}\\right|}$"
          },
          "metadata": {},
          "execution_count": 14
        }
      ]
    },
    {
      "cell_type": "markdown",
      "source": [
        "***QUESTÃO (D)***"
      ],
      "metadata": {
        "id": "hd6eYMbbfeCA"
      }
    },
    {
      "cell_type": "code",
      "source": [
        "from sympy import *\n",
        "\n",
        "# Definir variáveis simbólicas\n",
        "a, x, y, z = symbols('a x y z')\n",
        "\n",
        "# Definir as expressões para A, B e C\n",
        "A = Matrix([2*a*x + a*y - 3*a*z, a*y - a*z, 3*a*x + 5*a*y + 7*a*z])\n",
        "B = Matrix([a*y - a*z])\n",
        "C = Matrix([3*a*x + 5*a*y + 7*a*z])\n",
        "\n",
        "# Calcular A . C\n",
        "AC = A*C\n",
        "\n",
        "# Calcular o módulo de B^2\n",
        "B_squared = B.norm()**2\n",
        "\n",
        "# Calcular (D) = A . C - módulo de B^2\n",
        "D = AC[0] - B_squared\n",
        "\n",
        "print(D.simplify())\n",
        "\n",
        "D.evalf()"
      ],
      "metadata": {
        "colab": {
          "base_uri": "https://localhost:8080/",
          "height": 57
        },
        "id": "65MAbE0jfklY",
        "outputId": "a960a233-6564-4852-e433-680fad062418"
      },
      "execution_count": null,
      "outputs": [
        {
          "output_type": "stream",
          "name": "stdout",
          "text": [
            "a**2*(2*x + y - 3*z)*(3*x + 5*y + 7*z) - Abs(a*(y - z))**2\n"
          ]
        },
        {
          "output_type": "execute_result",
          "data": {
            "text/plain": [
              "(2.0*a*x + a*y - 3.0*a*z)*(3.0*a*x + 5.0*a*y + 7.0*a*z) - Abs(a*y - a*z)**2"
            ],
            "text/latex": "$\\displaystyle \\left(2.0 a x + a y - 3.0 a z\\right) \\left(3.0 a x + 5.0 a y + 7.0 a z\\right) - \\left|{a y - a z}\\right|^{2}$"
          },
          "metadata": {},
          "execution_count": 27
        }
      ]
    },
    {
      "cell_type": "markdown",
      "source": [
        "***QUESTÃO (E)***"
      ],
      "metadata": {
        "id": "rCziYIi6iYX6"
      }
    },
    {
      "cell_type": "code",
      "source": [
        "import sympy as sp\n",
        "\n",
        "a, x, y, z = sp.symbols('a x y z')\n",
        "\n",
        "A = sp.Matrix([2*a*x, a*y, -3*a*z])\n",
        "B = sp.Matrix([0, a*y, -a*z])\n",
        "C = sp.Matrix([3*a*x, 5*a*y, 7*a*z])\n",
        "\n",
        "E = (1/2) * B.cross((1/3)*A + (1/4)*C)\n",
        "\n",
        "print(\"E =\", E)\n",
        "\n",
        "E.evalf()"
      ],
      "metadata": {
        "colab": {
          "base_uri": "https://localhost:8080/",
          "height": 95
        },
        "id": "Sog1BKTOikfe",
        "outputId": "979a1acf-cf28-4e94-81b9-d26634b383dd"
      },
      "execution_count": null,
      "outputs": [
        {
          "output_type": "stream",
          "name": "stdout",
          "text": [
            "E = Matrix([[1.16666666666667*a**2*y*z], [-0.708333333333333*a**2*x*z], [-0.708333333333333*a**2*x*y]])\n"
          ]
        },
        {
          "output_type": "execute_result",
          "data": {
            "text/plain": [
              "Matrix([\n",
              "[  1.16666666666667*a**2*y*z],\n",
              "[-0.708333333333333*a**2*x*z],\n",
              "[-0.708333333333333*a**2*x*y]])"
            ],
            "text/latex": "$\\displaystyle \\left[\\begin{matrix}1.16666666666667 a^{2} y z\\\\- 0.708333333333333 a^{2} x z\\\\- 0.708333333333333 a^{2} x y\\end{matrix}\\right]$"
          },
          "metadata": {},
          "execution_count": 29
        }
      ]
    },
    {
      "cell_type": "markdown",
      "source": [
        "***EXERCÍCIO 1.4***"
      ],
      "metadata": {
        "id": "utr9Q_Hejp3o"
      }
    },
    {
      "cell_type": "markdown",
      "source": [
        "***QUESTÃO (A)***"
      ],
      "metadata": {
        "id": "0mb-HlLpk23Z"
      }
    },
    {
      "cell_type": "code",
      "source": [
        "import sympy as sp\n",
        "\n",
        "a, x, y, z = sp.symbols('a x y z')\n",
        "\n",
        "T = sp.Matrix([3*a*x, -2*a*y, a*z])\n",
        "\n",
        "S = sp.Matrix([4*a*x, 6*a*y, 2*a*z])\n",
        "\n",
        "print(\"Coordenadas do ponto T:\", T)\n",
        "print(\"Coordenadas do ponto S:\", S)\n",
        "T.evalf()\n",
        "S.evalf()"
      ],
      "metadata": {
        "colab": {
          "base_uri": "https://localhost:8080/",
          "height": 113
        },
        "id": "bfFztp_ejzMX",
        "outputId": "23f254dd-0df3-4373-befc-481caa2e2a45"
      },
      "execution_count": null,
      "outputs": [
        {
          "output_type": "stream",
          "name": "stdout",
          "text": [
            "Coordenadas do ponto T: Matrix([[3*a*x], [-2*a*y], [a*z]])\n",
            "Coordenadas do ponto S: Matrix([[4*a*x], [6*a*y], [2*a*z]])\n"
          ]
        },
        {
          "output_type": "execute_result",
          "data": {
            "text/plain": [
              "Matrix([\n",
              "[4.0*a*x],\n",
              "[6.0*a*y],\n",
              "[2.0*a*z]])"
            ],
            "text/latex": "$\\displaystyle \\left[\\begin{matrix}4.0 a x\\\\6.0 a y\\\\2.0 a z\\end{matrix}\\right]$"
          },
          "metadata": {},
          "execution_count": 31
        }
      ]
    },
    {
      "cell_type": "markdown",
      "source": [
        "***QUESTÃO (B)***"
      ],
      "metadata": {
        "id": "qtGzWt-JlSPJ"
      }
    },
    {
      "cell_type": "code",
      "source": [
        "import sympy as sp\n",
        "\n",
        "a, x, y, z = sp.symbols('a x y z')\n",
        "\n",
        "T = sp.Matrix([3*a*x, -2*a*y, a*z])\n",
        "\n",
        "S = sp.Matrix([4*a*x, 6*a*y, 2*a*z])\n",
        "\n",
        "distancia_TS = S - T\n",
        "\n",
        "print(\"Vetor distância de T até S: \", distancia_TS)\n",
        "\n"
      ],
      "metadata": {
        "colab": {
          "base_uri": "https://localhost:8080/"
        },
        "id": "-b-qxe73lRpU",
        "outputId": "4134b7fc-9b1d-4776-a4f8-eced315e0577"
      },
      "execution_count": null,
      "outputs": [
        {
          "output_type": "stream",
          "name": "stdout",
          "text": [
            "Vetor distância de T até S:  Matrix([[a*x], [8*a*y], [a*z]])\n"
          ]
        }
      ]
    },
    {
      "cell_type": "markdown",
      "source": [
        "***QUESTÃO (C)***"
      ],
      "metadata": {
        "id": "0jZs3GJtnelv"
      }
    },
    {
      "cell_type": "code",
      "source": [
        "import sympy as sp\n",
        "\n",
        "a, x, y, z = sp.symbols('a x y z')\n",
        "\n",
        "T = sp.Matrix([3*a*x, -2*a*y, a*z])\n",
        "S = sp.Matrix([4*a*x, 6*a*y, 2*a*z])\n",
        "\n",
        "distancia = sp.sqrt(((T - S).norm())**2)\n",
        "\n",
        "distancia = sp.simplify(distancia)\n",
        "\n",
        "print(\"A distância entre T e S é:\", distancia)\n",
        "distancia.evalf()"
      ],
      "metadata": {
        "colab": {
          "base_uri": "https://localhost:8080/",
          "height": 68
        },
        "id": "JxZOlHQPnzRw",
        "outputId": "c89bf9a8-c080-4b44-903b-8e7e03806f2b"
      },
      "execution_count": null,
      "outputs": [
        {
          "output_type": "stream",
          "name": "stdout",
          "text": [
            "A distância entre T e S é: sqrt(Abs(a*x)**2 + 64*Abs(a*y)**2 + Abs(a*z)**2)\n"
          ]
        },
        {
          "output_type": "execute_result",
          "data": {
            "text/plain": [
              "8.0*(0.015625*Abs(a*x)**2 + Abs(a*y)**2 + 0.015625*Abs(a*z)**2)**0.5"
            ],
            "text/latex": "$\\displaystyle 8.0 \\left(0.015625 \\left|{a x}\\right|^{2} + \\left|{a y}\\right|^{2} + 0.015625 \\left|{a z}\\right|^{2}\\right)^{0.5}$"
          },
          "metadata": {},
          "execution_count": 36
        }
      ]
    }
  ]
}